{
 "cells": [
  {
   "cell_type": "code",
   "execution_count": 1,
   "metadata": {},
   "outputs": [],
   "source": [
    "import torch\n",
    "import torch.nn.functional as F\n",
    "import matplotlib.pyplot as plt\n",
    "%matplotlib inline"
   ]
  },
  {
   "cell_type": "code",
   "execution_count": 2,
   "metadata": {},
   "outputs": [
    {
     "data": {
      "text/plain": [
       "['emma', 'olivia', 'ava', 'isabella', 'sophia', 'charlotte', 'mia', 'amelia']"
      ]
     },
     "execution_count": 2,
     "metadata": {},
     "output_type": "execute_result"
    }
   ],
   "source": [
    "words = open('names.txt', 'r').read().splitlines()\n",
    "words[:8]"
   ]
  },
  {
   "cell_type": "code",
   "execution_count": 3,
   "metadata": {},
   "outputs": [
    {
     "data": {
      "text/plain": [
       "32033"
      ]
     },
     "execution_count": 3,
     "metadata": {},
     "output_type": "execute_result"
    }
   ],
   "source": [
    "len(words)"
   ]
  },
  {
   "cell_type": "code",
   "execution_count": 6,
   "metadata": {},
   "outputs": [
    {
     "name": "stdout",
     "output_type": "stream",
     "text": [
      "{1: 'a', 2: 'b', 3: 'c', 4: 'd', 5: 'e', 6: 'f', 7: 'g', 8: 'h', 9: 'i', 10: 'j', 11: 'k', 12: 'l', 13: 'm', 14: 'n', 15: 'o', 16: 'p', 17: 'q', 18: 'r', 19: 's', 20: 't', 21: 'u', 22: 'v', 23: 'w', 24: 'x', 25: 'y', 26: 'z', 0: '.'}\n"
     ]
    }
   ],
   "source": [
    "chars = sorted(list(set(''.join(words))))\n",
    "stoi = {s:i+1 for i,s in enumerate(chars)}\n",
    "stoi['.'] = 0\n",
    "itos = {i:s for s,i in stoi.items()}\n",
    "print((itos))"
   ]
  },
  {
   "cell_type": "code",
   "execution_count": 98,
   "metadata": {},
   "outputs": [],
   "source": [
    "# build the dataset\n",
    "block_size = 3 # context lenght of amount of characters we take to predict the next one\n",
    "X, Y = [], []\n",
    "\n",
    "for w in words:\n",
    "    # print (w)\n",
    "    context = [0] * block_size\n",
    "\n",
    "    for ch in w + '.':\n",
    "        ix = stoi[ch]\n",
    "        X.append(context)\n",
    "        Y.append(ix)\n",
    "\n",
    "        # print(''.join(itos[i] for i in context), '--->', itos[ix])\n",
    "\n",
    "        context = context[1:] + [ix] # crop and append\n",
    "\n",
    "X = torch.tensor(X)\n",
    "Y = torch.tensor(Y)"
   ]
  },
  {
   "cell_type": "code",
   "execution_count": 10,
   "metadata": {},
   "outputs": [
    {
     "data": {
      "text/plain": [
       "(torch.Size([32, 3]), torch.int64, torch.Size([32]), torch.int64)"
      ]
     },
     "execution_count": 10,
     "metadata": {},
     "output_type": "execute_result"
    }
   ],
   "source": [
    "X.shape, X.dtype, Y.shape, Y.dtype"
   ]
  },
  {
   "cell_type": "code",
   "execution_count": 11,
   "metadata": {},
   "outputs": [
    {
     "data": {
      "text/plain": [
       "tensor([[ 0,  0,  0],\n",
       "        [ 0,  0,  5],\n",
       "        [ 0,  5, 13],\n",
       "        [ 5, 13, 13],\n",
       "        [13, 13,  1],\n",
       "        [ 0,  0,  0],\n",
       "        [ 0,  0, 15],\n",
       "        [ 0, 15, 12],\n",
       "        [15, 12,  9],\n",
       "        [12,  9, 22],\n",
       "        [ 9, 22,  9],\n",
       "        [22,  9,  1],\n",
       "        [ 0,  0,  0],\n",
       "        [ 0,  0,  1],\n",
       "        [ 0,  1, 22],\n",
       "        [ 1, 22,  1],\n",
       "        [ 0,  0,  0],\n",
       "        [ 0,  0,  9],\n",
       "        [ 0,  9, 19],\n",
       "        [ 9, 19,  1],\n",
       "        [19,  1,  2],\n",
       "        [ 1,  2,  5],\n",
       "        [ 2,  5, 12],\n",
       "        [ 5, 12, 12],\n",
       "        [12, 12,  1],\n",
       "        [ 0,  0,  0],\n",
       "        [ 0,  0, 19],\n",
       "        [ 0, 19, 15],\n",
       "        [19, 15, 16],\n",
       "        [15, 16,  8],\n",
       "        [16,  8,  9],\n",
       "        [ 8,  9,  1]])"
      ]
     },
     "execution_count": 11,
     "metadata": {},
     "output_type": "execute_result"
    }
   ],
   "source": [
    "X"
   ]
  },
  {
   "cell_type": "code",
   "execution_count": 12,
   "metadata": {},
   "outputs": [
    {
     "data": {
      "text/plain": [
       "tensor([ 5, 13, 13,  1,  0, 15, 12,  9, 22,  9,  1,  0,  1, 22,  1,  0,  9, 19,\n",
       "         1,  2,  5, 12, 12,  1,  0, 19, 15, 16,  8,  9,  1,  0])"
      ]
     },
     "execution_count": 12,
     "metadata": {},
     "output_type": "execute_result"
    }
   ],
   "source": [
    "Y"
   ]
  },
  {
   "cell_type": "code",
   "execution_count": 30,
   "metadata": {},
   "outputs": [],
   "source": [
    "embedding_dims = 2"
   ]
  },
  {
   "cell_type": "code",
   "execution_count": 13,
   "metadata": {},
   "outputs": [],
   "source": [
    "# building lookup table C where we embed all the characters into a single, n-dimensional space (2 for now)\n",
    "C = torch.rand((27, embedding_dims))"
   ]
  },
  {
   "cell_type": "code",
   "execution_count": 14,
   "metadata": {},
   "outputs": [
    {
     "data": {
      "text/plain": [
       "tensor([[0.0342, 0.9174],\n",
       "        [0.1129, 0.3116],\n",
       "        [0.5556, 0.4420],\n",
       "        [0.8283, 0.4598],\n",
       "        [0.0473, 0.6570],\n",
       "        [0.7228, 0.5167],\n",
       "        [0.4602, 0.3494],\n",
       "        [0.1249, 0.5981],\n",
       "        [0.2153, 0.9131],\n",
       "        [0.1536, 0.5227],\n",
       "        [0.0069, 0.5527],\n",
       "        [0.5587, 0.6532],\n",
       "        [0.1912, 0.4277],\n",
       "        [0.9300, 0.4367],\n",
       "        [0.6636, 0.5632],\n",
       "        [0.5701, 0.0861],\n",
       "        [0.9829, 0.8550],\n",
       "        [0.6205, 0.7713],\n",
       "        [0.5863, 0.6950],\n",
       "        [0.2462, 0.2801],\n",
       "        [0.5020, 0.0544],\n",
       "        [0.5123, 0.0736],\n",
       "        [0.2828, 0.1293],\n",
       "        [0.8620, 0.9721],\n",
       "        [0.5809, 0.9005],\n",
       "        [0.9445, 0.5888],\n",
       "        [0.8483, 0.2071]])"
      ]
     },
     "execution_count": 14,
     "metadata": {},
     "output_type": "execute_result"
    }
   ],
   "source": [
    "C"
   ]
  },
  {
   "cell_type": "code",
   "execution_count": 15,
   "metadata": {},
   "outputs": [
    {
     "data": {
      "text/plain": [
       "tensor([0.7228, 0.5167])"
      ]
     },
     "execution_count": 15,
     "metadata": {},
     "output_type": "execute_result"
    }
   ],
   "source": [
    "C[5]"
   ]
  },
  {
   "cell_type": "code",
   "execution_count": 20,
   "metadata": {},
   "outputs": [
    {
     "data": {
      "text/plain": [
       "tensor([0.7228, 0.5167])"
      ]
     },
     "execution_count": 20,
     "metadata": {},
     "output_type": "execute_result"
    }
   ],
   "source": [
    "F.one_hot(torch.tensor(5), num_classes=27).float() @ C"
   ]
  },
  {
   "cell_type": "code",
   "execution_count": 21,
   "metadata": {},
   "outputs": [
    {
     "data": {
      "text/plain": [
       "tensor([[0.7228, 0.5167],\n",
       "        [0.0473, 0.6570],\n",
       "        [0.7228, 0.5167],\n",
       "        [0.7228, 0.5167],\n",
       "        [0.1249, 0.5981]])"
      ]
     },
     "execution_count": 21,
     "metadata": {},
     "output_type": "execute_result"
    }
   ],
   "source": [
    "C[torch.tensor([5, 4, 5, 5, 7])]"
   ]
  },
  {
   "cell_type": "code",
   "execution_count": 22,
   "metadata": {},
   "outputs": [
    {
     "data": {
      "text/plain": [
       "torch.Size([32, 3, 2])"
      ]
     },
     "execution_count": 22,
     "metadata": {},
     "output_type": "execute_result"
    }
   ],
   "source": [
    "C[X].shape"
   ]
  },
  {
   "cell_type": "code",
   "execution_count": 24,
   "metadata": {},
   "outputs": [
    {
     "data": {
      "text/plain": [
       "tensor(1)"
      ]
     },
     "execution_count": 24,
     "metadata": {},
     "output_type": "execute_result"
    }
   ],
   "source": [
    "X[13, 2]"
   ]
  },
  {
   "cell_type": "code",
   "execution_count": 26,
   "metadata": {},
   "outputs": [
    {
     "data": {
      "text/plain": [
       "tensor([0.1129, 0.3116])"
      ]
     },
     "execution_count": 26,
     "metadata": {},
     "output_type": "execute_result"
    }
   ],
   "source": [
    "C[X][13, 2]"
   ]
  },
  {
   "cell_type": "code",
   "execution_count": 27,
   "metadata": {},
   "outputs": [
    {
     "data": {
      "text/plain": [
       "tensor([0.1129, 0.3116])"
      ]
     },
     "execution_count": 27,
     "metadata": {},
     "output_type": "execute_result"
    }
   ],
   "source": [
    "C[1]"
   ]
  },
  {
   "cell_type": "code",
   "execution_count": 55,
   "metadata": {},
   "outputs": [
    {
     "data": {
      "text/plain": [
       "torch.Size([32, 3, 2])"
      ]
     },
     "execution_count": 55,
     "metadata": {},
     "output_type": "execute_result"
    }
   ],
   "source": [
    "emb = C[X]\n",
    "emb.shape"
   ]
  },
  {
   "cell_type": "code",
   "execution_count": 56,
   "metadata": {},
   "outputs": [],
   "source": [
    "hidden_layer_neurons = 100\n",
    "W1 = torch.randn((block_size * embedding_dims, hidden_layer_neurons))\n",
    "b1 = torch.randn((hidden_layer_neurons))"
   ]
  },
  {
   "cell_type": "code",
   "execution_count": 57,
   "metadata": {},
   "outputs": [],
   "source": [
    "h = torch.tanh(emb.view((-1, block_size * embedding_dims)) @ W1 + b1)"
   ]
  },
  {
   "cell_type": "code",
   "execution_count": 62,
   "metadata": {},
   "outputs": [
    {
     "data": {
      "text/plain": [
       "torch.Size([32, 100])"
      ]
     },
     "execution_count": 62,
     "metadata": {},
     "output_type": "execute_result"
    }
   ],
   "source": [
    "h.shape"
   ]
  },
  {
   "cell_type": "code",
   "execution_count": 63,
   "metadata": {},
   "outputs": [],
   "source": [
    "W2 = torch.randn((100, 27))\n",
    "b2 = torch.randn(27)"
   ]
  },
  {
   "cell_type": "code",
   "execution_count": 64,
   "metadata": {},
   "outputs": [],
   "source": [
    "logits = h @ W2 + b2"
   ]
  },
  {
   "cell_type": "code",
   "execution_count": 65,
   "metadata": {},
   "outputs": [
    {
     "data": {
      "text/plain": [
       "torch.Size([32, 27])"
      ]
     },
     "execution_count": 65,
     "metadata": {},
     "output_type": "execute_result"
    }
   ],
   "source": [
    "logits.shape"
   ]
  },
  {
   "cell_type": "code",
   "execution_count": 66,
   "metadata": {},
   "outputs": [],
   "source": [
    "counts = logits.exp()"
   ]
  },
  {
   "cell_type": "code",
   "execution_count": 72,
   "metadata": {},
   "outputs": [],
   "source": [
    "prob = counts / counts.sum(1, keepdim=True)"
   ]
  },
  {
   "cell_type": "code",
   "execution_count": 75,
   "metadata": {},
   "outputs": [
    {
     "data": {
      "text/plain": [
       "torch.Size([32, 27])"
      ]
     },
     "execution_count": 75,
     "metadata": {},
     "output_type": "execute_result"
    }
   ],
   "source": [
    "prob.shape"
   ]
  },
  {
   "cell_type": "code",
   "execution_count": 79,
   "metadata": {},
   "outputs": [],
   "source": [
    "loss = -prob[torch.arange(32), Y].log().mean()"
   ]
  },
  {
   "cell_type": "code",
   "execution_count": 80,
   "metadata": {},
   "outputs": [
    {
     "data": {
      "text/plain": [
       "tensor(18.0202)"
      ]
     },
     "execution_count": 80,
     "metadata": {},
     "output_type": "execute_result"
    }
   ],
   "source": [
    "loss"
   ]
  },
  {
   "cell_type": "code",
   "execution_count": 81,
   "metadata": {},
   "outputs": [],
   "source": [
    "# bringing it all together \n"
   ]
  },
  {
   "cell_type": "code",
   "execution_count": 99,
   "metadata": {},
   "outputs": [
    {
     "data": {
      "text/plain": [
       "(torch.Size([228146, 3]), torch.Size([228146]))"
      ]
     },
     "execution_count": 99,
     "metadata": {},
     "output_type": "execute_result"
    }
   ],
   "source": [
    "X.shape, Y.shape # dataset"
   ]
  },
  {
   "cell_type": "code",
   "execution_count": 214,
   "metadata": {},
   "outputs": [],
   "source": [
    "g = torch.Generator().manual_seed(2147483647)\n",
    "C = torch.randn((27, 2), generator=g)\n",
    "W1 = torch.randn((6, 100), generator=g)\n",
    "b1 = torch.randn((100), generator=g)\n",
    "W2 = torch.randn((100, 27), generator=g)\n",
    "b2 = torch.randn((27), generator=g)\n",
    "parameters = [C, W1, b1, W2, b2]\n",
    "\n",
    "for p in parameters:\n",
    "    p.requires_grad = True"
   ]
  },
  {
   "cell_type": "code",
   "execution_count": 101,
   "metadata": {},
   "outputs": [
    {
     "data": {
      "text/plain": [
       "3481"
      ]
     },
     "execution_count": 101,
     "metadata": {},
     "output_type": "execute_result"
    }
   ],
   "source": [
    "sum(p.nelement() for p in parameters) # number of total params"
   ]
  },
  {
   "cell_type": "code",
   "execution_count": 200,
   "metadata": {},
   "outputs": [
    {
     "data": {
      "text/plain": [
       "torch.Size([20000])"
      ]
     },
     "execution_count": 200,
     "metadata": {},
     "output_type": "execute_result"
    }
   ],
   "source": [
    "lre = torch.linspace(-0.75, -2, 20_000)\n",
    "lrs = 10**lre\n",
    "lrs.shape"
   ]
  },
  {
   "cell_type": "code",
   "execution_count": 185,
   "metadata": {},
   "outputs": [
    {
     "data": {
      "text/plain": [
       "tensor([0.1778, 0.1778, 0.1778,  ..., 0.0100, 0.0100, 0.0100])"
      ]
     },
     "execution_count": 185,
     "metadata": {},
     "output_type": "execute_result"
    }
   ],
   "source": [
    "lrs"
   ]
  },
  {
   "cell_type": "code",
   "execution_count": 215,
   "metadata": {},
   "outputs": [
    {
     "name": "stdout",
     "output_type": "stream",
     "text": [
      "2.4656646251678467\n"
     ]
    }
   ],
   "source": [
    "lri = []\n",
    "lossi = []\n",
    "\n",
    "for i in range(20_000):\n",
    "    # minibatch construct\n",
    "    ix = torch.randint(0, X.shape[0], (32,))\n",
    "\n",
    "    # forward\n",
    "    emb = C[X[ix]] # (32, 3, 2)\n",
    "    h = torch.tanh(emb.view((-1, 6)) @ W1 + b1)\n",
    "    logits = h @ W2 + b2 # (32, 27)\n",
    "    loss = F.cross_entropy(logits, Y[ix])\n",
    "\n",
    "    # backward pass\n",
    "    for p in parameters:\n",
    "        p.grad = None\n",
    "    loss.backward()\n",
    "\n",
    "    # update\n",
    "    lr = lrs[i]\n",
    "    # lr = 0.01\n",
    "    for p in parameters:\n",
    "        p.data += -lr * p.grad\n",
    "\n",
    "    # track stats\n",
    "    lri.append(i)\n",
    "    lossi.append(loss.item())\n",
    "\n",
    "print(loss.item())"
   ]
  },
  {
   "cell_type": "code",
   "execution_count": 209,
   "metadata": {},
   "outputs": [
    {
     "data": {
      "text/plain": [
       "[tensor(0.1778),\n",
       " tensor(0.1778),\n",
       " tensor(0.1778),\n",
       " tensor(0.1778),\n",
       " tensor(0.1777),\n",
       " tensor(0.1777),\n",
       " tensor(0.1777),\n",
       " tensor(0.1776),\n",
       " tensor(0.1776),\n",
       " tensor(0.1776),\n",
       " tensor(0.1776),\n",
       " tensor(0.1775),\n",
       " tensor(0.1775),\n",
       " tensor(0.1775),\n",
       " tensor(0.1775),\n",
       " tensor(0.1774),\n",
       " tensor(0.1774),\n",
       " tensor(0.1774),\n",
       " tensor(0.1774),\n",
       " tensor(0.1773),\n",
       " tensor(0.1773),\n",
       " tensor(0.1773),\n",
       " tensor(0.1773),\n",
       " tensor(0.1772),\n",
       " tensor(0.1772),\n",
       " tensor(0.1772),\n",
       " tensor(0.1772),\n",
       " tensor(0.1771),\n",
       " tensor(0.1771),\n",
       " tensor(0.1771),\n",
       " tensor(0.1771),\n",
       " tensor(0.1770),\n",
       " tensor(0.1770),\n",
       " tensor(0.1770),\n",
       " tensor(0.1770),\n",
       " tensor(0.1769),\n",
       " tensor(0.1769),\n",
       " tensor(0.1769),\n",
       " tensor(0.1769),\n",
       " tensor(0.1768),\n",
       " tensor(0.1768),\n",
       " tensor(0.1768),\n",
       " tensor(0.1768),\n",
       " tensor(0.1767),\n",
       " tensor(0.1767),\n",
       " tensor(0.1767),\n",
       " tensor(0.1767),\n",
       " tensor(0.1766),\n",
       " tensor(0.1766),\n",
       " tensor(0.1766),\n",
       " tensor(0.1766),\n",
       " tensor(0.1765),\n",
       " tensor(0.1765),\n",
       " tensor(0.1765),\n",
       " tensor(0.1765),\n",
       " tensor(0.1764),\n",
       " tensor(0.1764),\n",
       " tensor(0.1764),\n",
       " tensor(0.1763),\n",
       " tensor(0.1763),\n",
       " tensor(0.1763),\n",
       " tensor(0.1763),\n",
       " tensor(0.1762),\n",
       " tensor(0.1762),\n",
       " tensor(0.1762),\n",
       " tensor(0.1762),\n",
       " tensor(0.1761),\n",
       " tensor(0.1761),\n",
       " tensor(0.1761),\n",
       " tensor(0.1761),\n",
       " tensor(0.1760),\n",
       " tensor(0.1760),\n",
       " tensor(0.1760),\n",
       " tensor(0.1760),\n",
       " tensor(0.1759),\n",
       " tensor(0.1759),\n",
       " tensor(0.1759),\n",
       " tensor(0.1759),\n",
       " tensor(0.1758),\n",
       " tensor(0.1758),\n",
       " tensor(0.1758),\n",
       " tensor(0.1758),\n",
       " tensor(0.1757),\n",
       " tensor(0.1757),\n",
       " tensor(0.1757),\n",
       " tensor(0.1757),\n",
       " tensor(0.1756),\n",
       " tensor(0.1756),\n",
       " tensor(0.1756),\n",
       " tensor(0.1756),\n",
       " tensor(0.1755),\n",
       " tensor(0.1755),\n",
       " tensor(0.1755),\n",
       " tensor(0.1755),\n",
       " tensor(0.1754),\n",
       " tensor(0.1754),\n",
       " tensor(0.1754),\n",
       " tensor(0.1754),\n",
       " tensor(0.1753),\n",
       " tensor(0.1753),\n",
       " tensor(0.1753),\n",
       " tensor(0.1753),\n",
       " tensor(0.1752),\n",
       " tensor(0.1752),\n",
       " tensor(0.1752),\n",
       " tensor(0.1752),\n",
       " tensor(0.1751),\n",
       " tensor(0.1751),\n",
       " tensor(0.1751),\n",
       " tensor(0.1751),\n",
       " tensor(0.1750),\n",
       " tensor(0.1750),\n",
       " tensor(0.1750),\n",
       " tensor(0.1750),\n",
       " tensor(0.1749),\n",
       " tensor(0.1749),\n",
       " tensor(0.1749),\n",
       " tensor(0.1749),\n",
       " tensor(0.1748),\n",
       " tensor(0.1748),\n",
       " tensor(0.1748),\n",
       " tensor(0.1748),\n",
       " tensor(0.1747),\n",
       " tensor(0.1747),\n",
       " tensor(0.1747),\n",
       " tensor(0.1747),\n",
       " tensor(0.1746),\n",
       " tensor(0.1746),\n",
       " tensor(0.1746),\n",
       " tensor(0.1746),\n",
       " tensor(0.1745),\n",
       " tensor(0.1745),\n",
       " tensor(0.1745),\n",
       " tensor(0.1745),\n",
       " tensor(0.1744),\n",
       " tensor(0.1744),\n",
       " tensor(0.1744),\n",
       " tensor(0.1744),\n",
       " tensor(0.1743),\n",
       " tensor(0.1743),\n",
       " tensor(0.1743),\n",
       " tensor(0.1743),\n",
       " tensor(0.1742),\n",
       " tensor(0.1742),\n",
       " tensor(0.1742),\n",
       " tensor(0.1742),\n",
       " tensor(0.1741),\n",
       " tensor(0.1741),\n",
       " tensor(0.1741),\n",
       " tensor(0.1741),\n",
       " tensor(0.1740),\n",
       " tensor(0.1740),\n",
       " tensor(0.1740),\n",
       " tensor(0.1740),\n",
       " tensor(0.1739),\n",
       " tensor(0.1739),\n",
       " tensor(0.1739),\n",
       " tensor(0.1739),\n",
       " tensor(0.1738),\n",
       " tensor(0.1738),\n",
       " tensor(0.1738),\n",
       " tensor(0.1738),\n",
       " tensor(0.1737),\n",
       " tensor(0.1737),\n",
       " tensor(0.1737),\n",
       " tensor(0.1737),\n",
       " tensor(0.1736),\n",
       " tensor(0.1736),\n",
       " tensor(0.1736),\n",
       " tensor(0.1736),\n",
       " tensor(0.1735),\n",
       " tensor(0.1735),\n",
       " tensor(0.1735),\n",
       " tensor(0.1735),\n",
       " tensor(0.1734),\n",
       " tensor(0.1734),\n",
       " tensor(0.1734),\n",
       " tensor(0.1734),\n",
       " tensor(0.1733),\n",
       " tensor(0.1733),\n",
       " tensor(0.1733),\n",
       " tensor(0.1733),\n",
       " tensor(0.1732),\n",
       " tensor(0.1732),\n",
       " tensor(0.1732),\n",
       " tensor(0.1732),\n",
       " tensor(0.1731),\n",
       " tensor(0.1731),\n",
       " tensor(0.1731),\n",
       " tensor(0.1731),\n",
       " tensor(0.1730),\n",
       " tensor(0.1730),\n",
       " tensor(0.1730),\n",
       " tensor(0.1730),\n",
       " tensor(0.1729),\n",
       " tensor(0.1729),\n",
       " tensor(0.1729),\n",
       " tensor(0.1729),\n",
       " tensor(0.1728),\n",
       " tensor(0.1728),\n",
       " tensor(0.1728),\n",
       " tensor(0.1728),\n",
       " tensor(0.1727),\n",
       " tensor(0.1727),\n",
       " tensor(0.1727),\n",
       " tensor(0.1727),\n",
       " tensor(0.1726),\n",
       " tensor(0.1726),\n",
       " tensor(0.1726),\n",
       " tensor(0.1726),\n",
       " tensor(0.1725),\n",
       " tensor(0.1725),\n",
       " tensor(0.1725),\n",
       " tensor(0.1725),\n",
       " tensor(0.1724),\n",
       " tensor(0.1724),\n",
       " tensor(0.1724),\n",
       " tensor(0.1724),\n",
       " tensor(0.1723),\n",
       " tensor(0.1723),\n",
       " tensor(0.1723),\n",
       " tensor(0.1723),\n",
       " tensor(0.1722),\n",
       " tensor(0.1722),\n",
       " tensor(0.1722),\n",
       " tensor(0.1722),\n",
       " tensor(0.1721),\n",
       " tensor(0.1721),\n",
       " tensor(0.1721),\n",
       " tensor(0.1721),\n",
       " tensor(0.1720),\n",
       " tensor(0.1720),\n",
       " tensor(0.1720),\n",
       " tensor(0.1720),\n",
       " tensor(0.1719),\n",
       " tensor(0.1719),\n",
       " tensor(0.1719),\n",
       " tensor(0.1719),\n",
       " tensor(0.1718),\n",
       " tensor(0.1718),\n",
       " tensor(0.1718),\n",
       " tensor(0.1718),\n",
       " tensor(0.1717),\n",
       " tensor(0.1717),\n",
       " tensor(0.1717),\n",
       " tensor(0.1717),\n",
       " tensor(0.1716),\n",
       " tensor(0.1716),\n",
       " tensor(0.1716),\n",
       " tensor(0.1716),\n",
       " tensor(0.1715),\n",
       " tensor(0.1715),\n",
       " tensor(0.1715),\n",
       " tensor(0.1715),\n",
       " tensor(0.1714),\n",
       " tensor(0.1714),\n",
       " tensor(0.1714),\n",
       " tensor(0.1714),\n",
       " tensor(0.1713),\n",
       " tensor(0.1713),\n",
       " tensor(0.1713),\n",
       " tensor(0.1713),\n",
       " tensor(0.1712),\n",
       " tensor(0.1712),\n",
       " tensor(0.1712),\n",
       " tensor(0.1712),\n",
       " tensor(0.1711),\n",
       " tensor(0.1711),\n",
       " tensor(0.1711),\n",
       " tensor(0.1711),\n",
       " tensor(0.1711),\n",
       " tensor(0.1710),\n",
       " tensor(0.1710),\n",
       " tensor(0.1710),\n",
       " tensor(0.1710),\n",
       " tensor(0.1709),\n",
       " tensor(0.1709),\n",
       " tensor(0.1709),\n",
       " tensor(0.1709),\n",
       " tensor(0.1708),\n",
       " tensor(0.1708),\n",
       " tensor(0.1708),\n",
       " tensor(0.1708),\n",
       " tensor(0.1707),\n",
       " tensor(0.1707),\n",
       " tensor(0.1707),\n",
       " tensor(0.1707),\n",
       " tensor(0.1706),\n",
       " tensor(0.1706),\n",
       " tensor(0.1706),\n",
       " tensor(0.1706),\n",
       " tensor(0.1705),\n",
       " tensor(0.1705),\n",
       " tensor(0.1705),\n",
       " tensor(0.1705),\n",
       " tensor(0.1704),\n",
       " tensor(0.1704),\n",
       " tensor(0.1704),\n",
       " tensor(0.1704),\n",
       " tensor(0.1703),\n",
       " tensor(0.1703),\n",
       " tensor(0.1703),\n",
       " tensor(0.1703),\n",
       " tensor(0.1702),\n",
       " tensor(0.1702),\n",
       " tensor(0.1702),\n",
       " tensor(0.1702),\n",
       " tensor(0.1701),\n",
       " tensor(0.1701),\n",
       " tensor(0.1701),\n",
       " tensor(0.1701),\n",
       " tensor(0.1700),\n",
       " tensor(0.1700),\n",
       " tensor(0.1700),\n",
       " tensor(0.1700),\n",
       " tensor(0.1699),\n",
       " tensor(0.1699),\n",
       " tensor(0.1699),\n",
       " tensor(0.1699),\n",
       " tensor(0.1698),\n",
       " tensor(0.1698),\n",
       " tensor(0.1698),\n",
       " tensor(0.1698),\n",
       " tensor(0.1698),\n",
       " tensor(0.1697),\n",
       " tensor(0.1697),\n",
       " tensor(0.1697),\n",
       " tensor(0.1697),\n",
       " tensor(0.1696),\n",
       " tensor(0.1696),\n",
       " tensor(0.1696),\n",
       " tensor(0.1696),\n",
       " tensor(0.1695),\n",
       " tensor(0.1695),\n",
       " tensor(0.1695),\n",
       " tensor(0.1695),\n",
       " tensor(0.1694),\n",
       " tensor(0.1694),\n",
       " tensor(0.1694),\n",
       " tensor(0.1694),\n",
       " tensor(0.1693),\n",
       " tensor(0.1693),\n",
       " tensor(0.1693),\n",
       " tensor(0.1693),\n",
       " tensor(0.1692),\n",
       " tensor(0.1692),\n",
       " tensor(0.1692),\n",
       " tensor(0.1692),\n",
       " tensor(0.1691),\n",
       " tensor(0.1691),\n",
       " tensor(0.1691),\n",
       " tensor(0.1691),\n",
       " tensor(0.1690),\n",
       " tensor(0.1690),\n",
       " tensor(0.1690),\n",
       " tensor(0.1690),\n",
       " tensor(0.1689),\n",
       " tensor(0.1689),\n",
       " tensor(0.1689),\n",
       " tensor(0.1689),\n",
       " tensor(0.1688),\n",
       " tensor(0.1688),\n",
       " tensor(0.1688),\n",
       " tensor(0.1688),\n",
       " tensor(0.1688),\n",
       " tensor(0.1687),\n",
       " tensor(0.1687),\n",
       " tensor(0.1687),\n",
       " tensor(0.1687),\n",
       " tensor(0.1686),\n",
       " tensor(0.1686),\n",
       " tensor(0.1686),\n",
       " tensor(0.1686),\n",
       " tensor(0.1685),\n",
       " tensor(0.1685),\n",
       " tensor(0.1685),\n",
       " tensor(0.1685),\n",
       " tensor(0.1684),\n",
       " tensor(0.1684),\n",
       " tensor(0.1684),\n",
       " tensor(0.1684),\n",
       " tensor(0.1683),\n",
       " tensor(0.1683),\n",
       " tensor(0.1683),\n",
       " tensor(0.1683),\n",
       " tensor(0.1682),\n",
       " tensor(0.1682),\n",
       " tensor(0.1682),\n",
       " tensor(0.1682),\n",
       " tensor(0.1681),\n",
       " tensor(0.1681),\n",
       " tensor(0.1681),\n",
       " tensor(0.1681),\n",
       " tensor(0.1680),\n",
       " tensor(0.1680),\n",
       " tensor(0.1680),\n",
       " tensor(0.1680),\n",
       " tensor(0.1680),\n",
       " tensor(0.1679),\n",
       " tensor(0.1679),\n",
       " tensor(0.1679),\n",
       " tensor(0.1679),\n",
       " tensor(0.1678),\n",
       " tensor(0.1678),\n",
       " tensor(0.1678),\n",
       " tensor(0.1678),\n",
       " tensor(0.1677),\n",
       " tensor(0.1677),\n",
       " tensor(0.1677),\n",
       " tensor(0.1677),\n",
       " tensor(0.1676),\n",
       " tensor(0.1676),\n",
       " tensor(0.1676),\n",
       " tensor(0.1676),\n",
       " tensor(0.1675),\n",
       " tensor(0.1675),\n",
       " tensor(0.1675),\n",
       " tensor(0.1675),\n",
       " tensor(0.1674),\n",
       " tensor(0.1674),\n",
       " tensor(0.1674),\n",
       " tensor(0.1674),\n",
       " tensor(0.1673),\n",
       " tensor(0.1673),\n",
       " tensor(0.1673),\n",
       " tensor(0.1673),\n",
       " tensor(0.1673),\n",
       " tensor(0.1672),\n",
       " tensor(0.1672),\n",
       " tensor(0.1672),\n",
       " tensor(0.1672),\n",
       " tensor(0.1671),\n",
       " tensor(0.1671),\n",
       " tensor(0.1671),\n",
       " tensor(0.1671),\n",
       " tensor(0.1670),\n",
       " tensor(0.1670),\n",
       " tensor(0.1670),\n",
       " tensor(0.1670),\n",
       " tensor(0.1669),\n",
       " tensor(0.1669),\n",
       " tensor(0.1669),\n",
       " tensor(0.1669),\n",
       " tensor(0.1668),\n",
       " tensor(0.1668),\n",
       " tensor(0.1668),\n",
       " tensor(0.1668),\n",
       " tensor(0.1667),\n",
       " tensor(0.1667),\n",
       " tensor(0.1667),\n",
       " tensor(0.1667),\n",
       " tensor(0.1667),\n",
       " tensor(0.1666),\n",
       " tensor(0.1666),\n",
       " tensor(0.1666),\n",
       " tensor(0.1666),\n",
       " tensor(0.1665),\n",
       " tensor(0.1665),\n",
       " tensor(0.1665),\n",
       " tensor(0.1665),\n",
       " tensor(0.1664),\n",
       " tensor(0.1664),\n",
       " tensor(0.1664),\n",
       " tensor(0.1664),\n",
       " tensor(0.1663),\n",
       " tensor(0.1663),\n",
       " tensor(0.1663),\n",
       " tensor(0.1663),\n",
       " tensor(0.1662),\n",
       " tensor(0.1662),\n",
       " tensor(0.1662),\n",
       " tensor(0.1662),\n",
       " tensor(0.1661),\n",
       " tensor(0.1661),\n",
       " tensor(0.1661),\n",
       " tensor(0.1661),\n",
       " tensor(0.1661),\n",
       " tensor(0.1660),\n",
       " tensor(0.1660),\n",
       " tensor(0.1660),\n",
       " tensor(0.1660),\n",
       " tensor(0.1659),\n",
       " tensor(0.1659),\n",
       " tensor(0.1659),\n",
       " tensor(0.1659),\n",
       " tensor(0.1658),\n",
       " tensor(0.1658),\n",
       " tensor(0.1658),\n",
       " tensor(0.1658),\n",
       " tensor(0.1657),\n",
       " tensor(0.1657),\n",
       " tensor(0.1657),\n",
       " tensor(0.1657),\n",
       " tensor(0.1656),\n",
       " tensor(0.1656),\n",
       " tensor(0.1656),\n",
       " tensor(0.1656),\n",
       " tensor(0.1656),\n",
       " tensor(0.1655),\n",
       " tensor(0.1655),\n",
       " tensor(0.1655),\n",
       " tensor(0.1655),\n",
       " tensor(0.1654),\n",
       " tensor(0.1654),\n",
       " tensor(0.1654),\n",
       " tensor(0.1654),\n",
       " tensor(0.1653),\n",
       " tensor(0.1653),\n",
       " tensor(0.1653),\n",
       " tensor(0.1653),\n",
       " tensor(0.1652),\n",
       " tensor(0.1652),\n",
       " tensor(0.1652),\n",
       " tensor(0.1652),\n",
       " tensor(0.1651),\n",
       " tensor(0.1651),\n",
       " tensor(0.1651),\n",
       " tensor(0.1651),\n",
       " tensor(0.1651),\n",
       " tensor(0.1650),\n",
       " tensor(0.1650),\n",
       " tensor(0.1650),\n",
       " tensor(0.1650),\n",
       " tensor(0.1649),\n",
       " tensor(0.1649),\n",
       " tensor(0.1649),\n",
       " tensor(0.1649),\n",
       " tensor(0.1648),\n",
       " tensor(0.1648),\n",
       " tensor(0.1648),\n",
       " tensor(0.1648),\n",
       " tensor(0.1647),\n",
       " tensor(0.1647),\n",
       " tensor(0.1647),\n",
       " tensor(0.1647),\n",
       " tensor(0.1646),\n",
       " tensor(0.1646),\n",
       " tensor(0.1646),\n",
       " tensor(0.1646),\n",
       " tensor(0.1646),\n",
       " tensor(0.1645),\n",
       " tensor(0.1645),\n",
       " tensor(0.1645),\n",
       " tensor(0.1645),\n",
       " tensor(0.1644),\n",
       " tensor(0.1644),\n",
       " tensor(0.1644),\n",
       " tensor(0.1644),\n",
       " tensor(0.1643),\n",
       " tensor(0.1643),\n",
       " tensor(0.1643),\n",
       " tensor(0.1643),\n",
       " tensor(0.1642),\n",
       " tensor(0.1642),\n",
       " tensor(0.1642),\n",
       " tensor(0.1642),\n",
       " tensor(0.1642),\n",
       " tensor(0.1641),\n",
       " tensor(0.1641),\n",
       " tensor(0.1641),\n",
       " tensor(0.1641),\n",
       " tensor(0.1640),\n",
       " tensor(0.1640),\n",
       " tensor(0.1640),\n",
       " tensor(0.1640),\n",
       " tensor(0.1639),\n",
       " tensor(0.1639),\n",
       " tensor(0.1639),\n",
       " tensor(0.1639),\n",
       " tensor(0.1638),\n",
       " tensor(0.1638),\n",
       " tensor(0.1638),\n",
       " tensor(0.1638),\n",
       " tensor(0.1638),\n",
       " tensor(0.1637),\n",
       " tensor(0.1637),\n",
       " tensor(0.1637),\n",
       " tensor(0.1637),\n",
       " tensor(0.1636),\n",
       " tensor(0.1636),\n",
       " tensor(0.1636),\n",
       " tensor(0.1636),\n",
       " tensor(0.1635),\n",
       " tensor(0.1635),\n",
       " tensor(0.1635),\n",
       " tensor(0.1635),\n",
       " tensor(0.1634),\n",
       " tensor(0.1634),\n",
       " tensor(0.1634),\n",
       " tensor(0.1634),\n",
       " tensor(0.1634),\n",
       " tensor(0.1633),\n",
       " tensor(0.1633),\n",
       " tensor(0.1633),\n",
       " tensor(0.1633),\n",
       " tensor(0.1632),\n",
       " tensor(0.1632),\n",
       " tensor(0.1632),\n",
       " tensor(0.1632),\n",
       " tensor(0.1631),\n",
       " tensor(0.1631),\n",
       " tensor(0.1631),\n",
       " tensor(0.1631),\n",
       " tensor(0.1630),\n",
       " tensor(0.1630),\n",
       " tensor(0.1630),\n",
       " tensor(0.1630),\n",
       " tensor(0.1630),\n",
       " tensor(0.1629),\n",
       " tensor(0.1629),\n",
       " tensor(0.1629),\n",
       " tensor(0.1629),\n",
       " tensor(0.1628),\n",
       " tensor(0.1628),\n",
       " tensor(0.1628),\n",
       " tensor(0.1628),\n",
       " tensor(0.1627),\n",
       " tensor(0.1627),\n",
       " tensor(0.1627),\n",
       " tensor(0.1627),\n",
       " tensor(0.1626),\n",
       " tensor(0.1626),\n",
       " tensor(0.1626),\n",
       " tensor(0.1626),\n",
       " tensor(0.1626),\n",
       " tensor(0.1625),\n",
       " tensor(0.1625),\n",
       " tensor(0.1625),\n",
       " tensor(0.1625),\n",
       " tensor(0.1624),\n",
       " tensor(0.1624),\n",
       " tensor(0.1624),\n",
       " tensor(0.1624),\n",
       " tensor(0.1623),\n",
       " tensor(0.1623),\n",
       " tensor(0.1623),\n",
       " tensor(0.1623),\n",
       " tensor(0.1623),\n",
       " tensor(0.1622),\n",
       " tensor(0.1622),\n",
       " tensor(0.1622),\n",
       " tensor(0.1622),\n",
       " tensor(0.1621),\n",
       " tensor(0.1621),\n",
       " tensor(0.1621),\n",
       " tensor(0.1621),\n",
       " tensor(0.1620),\n",
       " tensor(0.1620),\n",
       " tensor(0.1620),\n",
       " tensor(0.1620),\n",
       " tensor(0.1619),\n",
       " tensor(0.1619),\n",
       " tensor(0.1619),\n",
       " tensor(0.1619),\n",
       " tensor(0.1619),\n",
       " tensor(0.1618),\n",
       " tensor(0.1618),\n",
       " tensor(0.1618),\n",
       " tensor(0.1618),\n",
       " tensor(0.1617),\n",
       " tensor(0.1617),\n",
       " tensor(0.1617),\n",
       " tensor(0.1617),\n",
       " tensor(0.1616),\n",
       " tensor(0.1616),\n",
       " tensor(0.1616),\n",
       " tensor(0.1616),\n",
       " tensor(0.1616),\n",
       " tensor(0.1615),\n",
       " tensor(0.1615),\n",
       " tensor(0.1615),\n",
       " tensor(0.1615),\n",
       " tensor(0.1614),\n",
       " tensor(0.1614),\n",
       " tensor(0.1614),\n",
       " tensor(0.1614),\n",
       " tensor(0.1613),\n",
       " tensor(0.1613),\n",
       " tensor(0.1613),\n",
       " tensor(0.1613),\n",
       " tensor(0.1612),\n",
       " tensor(0.1612),\n",
       " tensor(0.1612),\n",
       " tensor(0.1612),\n",
       " tensor(0.1612),\n",
       " tensor(0.1611),\n",
       " tensor(0.1611),\n",
       " tensor(0.1611),\n",
       " tensor(0.1611),\n",
       " tensor(0.1610),\n",
       " tensor(0.1610),\n",
       " tensor(0.1610),\n",
       " tensor(0.1610),\n",
       " tensor(0.1609),\n",
       " tensor(0.1609),\n",
       " tensor(0.1609),\n",
       " tensor(0.1609),\n",
       " tensor(0.1609),\n",
       " tensor(0.1608),\n",
       " tensor(0.1608),\n",
       " tensor(0.1608),\n",
       " tensor(0.1608),\n",
       " tensor(0.1607),\n",
       " tensor(0.1607),\n",
       " tensor(0.1607),\n",
       " tensor(0.1607),\n",
       " tensor(0.1606),\n",
       " tensor(0.1606),\n",
       " tensor(0.1606),\n",
       " tensor(0.1606),\n",
       " tensor(0.1606),\n",
       " tensor(0.1605),\n",
       " tensor(0.1605),\n",
       " tensor(0.1605),\n",
       " tensor(0.1605),\n",
       " tensor(0.1604),\n",
       " tensor(0.1604),\n",
       " tensor(0.1604),\n",
       " tensor(0.1604),\n",
       " tensor(0.1603),\n",
       " tensor(0.1603),\n",
       " tensor(0.1603),\n",
       " tensor(0.1603),\n",
       " tensor(0.1603),\n",
       " tensor(0.1602),\n",
       " tensor(0.1602),\n",
       " tensor(0.1602),\n",
       " tensor(0.1602),\n",
       " tensor(0.1601),\n",
       " tensor(0.1601),\n",
       " tensor(0.1601),\n",
       " tensor(0.1601),\n",
       " tensor(0.1600),\n",
       " tensor(0.1600),\n",
       " tensor(0.1600),\n",
       " tensor(0.1600),\n",
       " tensor(0.1600),\n",
       " tensor(0.1599),\n",
       " tensor(0.1599),\n",
       " tensor(0.1599),\n",
       " tensor(0.1599),\n",
       " tensor(0.1598),\n",
       " tensor(0.1598),\n",
       " tensor(0.1598),\n",
       " tensor(0.1598),\n",
       " tensor(0.1597),\n",
       " tensor(0.1597),\n",
       " tensor(0.1597),\n",
       " tensor(0.1597),\n",
       " tensor(0.1597),\n",
       " tensor(0.1596),\n",
       " tensor(0.1596),\n",
       " tensor(0.1596),\n",
       " tensor(0.1596),\n",
       " tensor(0.1595),\n",
       " tensor(0.1595),\n",
       " tensor(0.1595),\n",
       " tensor(0.1595),\n",
       " tensor(0.1594),\n",
       " tensor(0.1594),\n",
       " tensor(0.1594),\n",
       " tensor(0.1594),\n",
       " tensor(0.1594),\n",
       " tensor(0.1593),\n",
       " tensor(0.1593),\n",
       " tensor(0.1593),\n",
       " tensor(0.1593),\n",
       " tensor(0.1592),\n",
       " tensor(0.1592),\n",
       " tensor(0.1592),\n",
       " tensor(0.1592),\n",
       " tensor(0.1592),\n",
       " tensor(0.1591),\n",
       " tensor(0.1591),\n",
       " tensor(0.1591),\n",
       " tensor(0.1591),\n",
       " tensor(0.1590),\n",
       " tensor(0.1590),\n",
       " tensor(0.1590),\n",
       " tensor(0.1590),\n",
       " tensor(0.1589),\n",
       " tensor(0.1589),\n",
       " tensor(0.1589),\n",
       " tensor(0.1589),\n",
       " tensor(0.1589),\n",
       " tensor(0.1588),\n",
       " tensor(0.1588),\n",
       " tensor(0.1588),\n",
       " tensor(0.1588),\n",
       " tensor(0.1587),\n",
       " tensor(0.1587),\n",
       " tensor(0.1587),\n",
       " tensor(0.1587),\n",
       " tensor(0.1586),\n",
       " tensor(0.1586),\n",
       " tensor(0.1586),\n",
       " tensor(0.1586),\n",
       " tensor(0.1586),\n",
       " tensor(0.1585),\n",
       " tensor(0.1585),\n",
       " tensor(0.1585),\n",
       " tensor(0.1585),\n",
       " tensor(0.1584),\n",
       " tensor(0.1584),\n",
       " tensor(0.1584),\n",
       " tensor(0.1584),\n",
       " tensor(0.1584),\n",
       " tensor(0.1583),\n",
       " tensor(0.1583),\n",
       " tensor(0.1583),\n",
       " tensor(0.1583),\n",
       " tensor(0.1582),\n",
       " tensor(0.1582),\n",
       " tensor(0.1582),\n",
       " tensor(0.1582),\n",
       " tensor(0.1581),\n",
       " tensor(0.1581),\n",
       " tensor(0.1581),\n",
       " tensor(0.1581),\n",
       " tensor(0.1581),\n",
       " tensor(0.1580),\n",
       " tensor(0.1580),\n",
       " tensor(0.1580),\n",
       " tensor(0.1580),\n",
       " tensor(0.1579),\n",
       " tensor(0.1579),\n",
       " tensor(0.1579),\n",
       " tensor(0.1579),\n",
       " tensor(0.1579),\n",
       " tensor(0.1578),\n",
       " tensor(0.1578),\n",
       " tensor(0.1578),\n",
       " tensor(0.1578),\n",
       " tensor(0.1577),\n",
       " tensor(0.1577),\n",
       " tensor(0.1577),\n",
       " tensor(0.1577),\n",
       " tensor(0.1576),\n",
       " tensor(0.1576),\n",
       " tensor(0.1576),\n",
       " tensor(0.1576),\n",
       " tensor(0.1576),\n",
       " tensor(0.1575),\n",
       " tensor(0.1575),\n",
       " tensor(0.1575),\n",
       " tensor(0.1575),\n",
       " tensor(0.1574),\n",
       " tensor(0.1574),\n",
       " tensor(0.1574),\n",
       " tensor(0.1574),\n",
       " tensor(0.1574),\n",
       " tensor(0.1573),\n",
       " tensor(0.1573),\n",
       " tensor(0.1573),\n",
       " tensor(0.1573),\n",
       " tensor(0.1572),\n",
       " tensor(0.1572),\n",
       " tensor(0.1572),\n",
       " tensor(0.1572),\n",
       " tensor(0.1571),\n",
       " tensor(0.1571),\n",
       " tensor(0.1571),\n",
       " tensor(0.1571),\n",
       " tensor(0.1571),\n",
       " tensor(0.1570),\n",
       " tensor(0.1570),\n",
       " tensor(0.1570),\n",
       " tensor(0.1570),\n",
       " tensor(0.1569),\n",
       " tensor(0.1569),\n",
       " tensor(0.1569),\n",
       " tensor(0.1569),\n",
       " tensor(0.1569),\n",
       " tensor(0.1568),\n",
       " tensor(0.1568),\n",
       " tensor(0.1568),\n",
       " tensor(0.1568),\n",
       " tensor(0.1567),\n",
       " tensor(0.1567),\n",
       " tensor(0.1567),\n",
       " tensor(0.1567),\n",
       " tensor(0.1567),\n",
       " tensor(0.1566),\n",
       " tensor(0.1566),\n",
       " tensor(0.1566),\n",
       " tensor(0.1566),\n",
       " tensor(0.1565),\n",
       " tensor(0.1565),\n",
       " tensor(0.1565),\n",
       " tensor(0.1565),\n",
       " tensor(0.1564),\n",
       " tensor(0.1564),\n",
       " tensor(0.1564),\n",
       " tensor(0.1564),\n",
       " tensor(0.1564),\n",
       " tensor(0.1563),\n",
       " tensor(0.1563),\n",
       " tensor(0.1563),\n",
       " tensor(0.1563),\n",
       " tensor(0.1562),\n",
       " tensor(0.1562),\n",
       " tensor(0.1562),\n",
       " tensor(0.1562),\n",
       " tensor(0.1562),\n",
       " tensor(0.1561),\n",
       " tensor(0.1561),\n",
       " tensor(0.1561),\n",
       " tensor(0.1561),\n",
       " tensor(0.1560),\n",
       " tensor(0.1560),\n",
       " tensor(0.1560),\n",
       " tensor(0.1560),\n",
       " tensor(0.1560),\n",
       " tensor(0.1559),\n",
       " tensor(0.1559),\n",
       " tensor(0.1559),\n",
       " tensor(0.1559),\n",
       " tensor(0.1558),\n",
       " tensor(0.1558),\n",
       " tensor(0.1558),\n",
       " tensor(0.1558),\n",
       " tensor(0.1558),\n",
       " tensor(0.1557),\n",
       " tensor(0.1557),\n",
       " tensor(0.1557),\n",
       " tensor(0.1557),\n",
       " tensor(0.1556),\n",
       " tensor(0.1556),\n",
       " tensor(0.1556),\n",
       " tensor(0.1556),\n",
       " tensor(0.1556),\n",
       " tensor(0.1555),\n",
       " tensor(0.1555),\n",
       " tensor(0.1555),\n",
       " tensor(0.1555),\n",
       " tensor(0.1554),\n",
       " tensor(0.1554),\n",
       " tensor(0.1554),\n",
       " tensor(0.1554),\n",
       " tensor(0.1553),\n",
       " tensor(0.1553),\n",
       " tensor(0.1553),\n",
       " tensor(0.1553),\n",
       " tensor(0.1553),\n",
       " tensor(0.1552),\n",
       " tensor(0.1552),\n",
       " tensor(0.1552),\n",
       " tensor(0.1552),\n",
       " tensor(0.1551),\n",
       " tensor(0.1551),\n",
       " tensor(0.1551),\n",
       " tensor(0.1551),\n",
       " tensor(0.1551),\n",
       " tensor(0.1550),\n",
       " tensor(0.1550),\n",
       " tensor(0.1550),\n",
       " tensor(0.1550),\n",
       " tensor(0.1549),\n",
       " tensor(0.1549),\n",
       " tensor(0.1549),\n",
       " tensor(0.1549),\n",
       " tensor(0.1549),\n",
       " tensor(0.1548),\n",
       " tensor(0.1548),\n",
       " tensor(0.1548),\n",
       " tensor(0.1548),\n",
       " tensor(0.1547),\n",
       " tensor(0.1547),\n",
       " tensor(0.1547),\n",
       " tensor(0.1547),\n",
       " tensor(0.1547),\n",
       " tensor(0.1546),\n",
       " tensor(0.1546),\n",
       " tensor(0.1546),\n",
       " tensor(0.1546),\n",
       " tensor(0.1545),\n",
       " tensor(0.1545),\n",
       " tensor(0.1545),\n",
       " tensor(0.1545),\n",
       " tensor(0.1545),\n",
       " tensor(0.1544),\n",
       " tensor(0.1544),\n",
       " tensor(0.1544),\n",
       " tensor(0.1544),\n",
       " tensor(0.1543),\n",
       " tensor(0.1543),\n",
       " tensor(0.1543),\n",
       " tensor(0.1543),\n",
       " tensor(0.1543),\n",
       " tensor(0.1542),\n",
       " tensor(0.1542),\n",
       " tensor(0.1542),\n",
       " tensor(0.1542),\n",
       " tensor(0.1541),\n",
       " tensor(0.1541),\n",
       " tensor(0.1541),\n",
       " tensor(0.1541),\n",
       " tensor(0.1541),\n",
       " tensor(0.1540),\n",
       " tensor(0.1540),\n",
       " ...]"
      ]
     },
     "execution_count": 209,
     "metadata": {},
     "output_type": "execute_result"
    }
   ],
   "source": [
    "lri"
   ]
  },
  {
   "cell_type": "code",
   "execution_count": 216,
   "metadata": {},
   "outputs": [
    {
     "data": {
      "text/plain": [
       "[<matplotlib.lines.Line2D at 0x146f636a0>]"
      ]
     },
     "execution_count": 216,
     "metadata": {},
     "output_type": "execute_result"
    },
    {
     "data": {
      "image/png": "[encoded data removed]",
      "text/plain": [
       "<Figure size 640x480 with 1 Axes>"
      ]
     },
     "metadata": {},
     "output_type": "display_data"
    }
   ],
   "source": [
    "plt.plot(lri, lossi)"
   ]
  },
  {
   "cell_type": "code",
   "execution_count": 197,
   "metadata": {},
   "outputs": [
    {
     "data": {
      "text/plain": [
       "tensor(2.3349, grad_fn=<NllLossBackward0>)"
      ]
     },
     "execution_count": 197,
     "metadata": {},
     "output_type": "execute_result"
    }
   ],
   "source": [
    "emb = C[X]\n",
    "h = torch.tanh(emb.view((-1, 6)) @ W1 + b1)\n",
    "logits = h @ W2 + b2\n",
    "loss = F.cross_entropy(logits, Y)\n",
    "loss"
   ]
  },
  {
   "cell_type": "code",
   "execution_count": 178,
   "metadata": {},
   "outputs": [
    {
     "data": {
      "text/plain": [
       "0.1778279410038923"
      ]
     },
     "execution_count": 178,
     "metadata": {},
     "output_type": "execute_result"
    }
   ],
   "source": [
    "10**-0.75"
   ]
  },
  {
   "cell_type": "code",
   "execution_count": 218,
   "metadata": {},
   "outputs": [
    {
     "name": "stdout",
     "output_type": "stream",
     "text": [
      "torch.Size([182580, 3]) torch.Size([182580])\n",
      "torch.Size([22767, 3]) torch.Size([22767])\n",
      "torch.Size([22799, 3]) torch.Size([22799])\n"
     ]
    }
   ],
   "source": [
    "def build_dataset(words):\n",
    "    block_size = 3\n",
    "    X, Y = [], []\n",
    "\n",
    "    for w in words:\n",
    "        context = [0] * block_size\n",
    "        for ch in w + '.':\n",
    "            ix = stoi[ch]\n",
    "            \n",
    "            X.append(context)\n",
    "            Y.append(ix)\n",
    "\n",
    "            context = context[1:] + [ix] # crop and append \n",
    "    \n",
    "    X = torch.tensor(X)\n",
    "    Y = torch.tensor(Y)\n",
    "\n",
    "    print(X.shape, Y.shape)\n",
    "    return X, Y\n",
    "\n",
    "import random\n",
    "random.seed(42)\n",
    "random.shuffle(words)\n",
    "n1 = int(0.8 * len(words))\n",
    "n2 = int(0.9 * len(words))\n",
    "\n",
    "Xtr, Ytr = build_dataset(words[:n1])\n",
    "Xdev, Ydev = build_dataset(words[n1:n2])\n",
    "Xte, Yte = build_dataset(words[n2:])"
   ]
  },
  {
   "cell_type": "code",
   "execution_count": 249,
   "metadata": {},
   "outputs": [
    {
     "data": {
      "text/plain": [
       "11897"
      ]
     },
     "execution_count": 249,
     "metadata": {},
     "output_type": "execute_result"
    }
   ],
   "source": [
    "g = torch.Generator().manual_seed(2147483647)\n",
    "C = torch.randn((27, 10), generator=g)\n",
    "W1 = torch.randn((30, 200), generator=g)\n",
    "b1 = torch.randn((200), generator=g)\n",
    "W2 = torch.randn((200, 27), generator=g)\n",
    "b2 = torch.randn((27), generator=g)\n",
    "parameters = [C, W1, b1, W2, b2]\n",
    "\n",
    "for p in parameters:\n",
    "    p.requires_grad = True\n",
    "\n",
    "sum(p.nelement() for p in parameters) # number of total params"
   ]
  },
  {
   "cell_type": "code",
   "execution_count": 250,
   "metadata": {},
   "outputs": [],
   "source": [
    "lri = []\n",
    "lossi = []\n",
    "stepi = []"
   ]
  },
  {
   "cell_type": "code",
   "execution_count": 259,
   "metadata": {},
   "outputs": [
    {
     "name": "stdout",
     "output_type": "stream",
     "text": [
      "2.3297479152679443\n"
     ]
    }
   ],
   "source": [
    "for i in range(200_000):\n",
    "    # minibatch construct\n",
    "    ix = torch.randint(0, Xtr.shape[0], (48,))\n",
    "\n",
    "    # forward\n",
    "    emb = C[Xtr[ix]] # (32, 3, 2)\n",
    "    h = torch.tanh(emb.view((-1, 30)) @ W1 + b1)\n",
    "    logits = h @ W2 + b2 # (32, 27)\n",
    "    loss = F.cross_entropy(logits, Ytr[ix])\n",
    "\n",
    "    # backward pass\n",
    "    for p in parameters:\n",
    "        p.grad = None\n",
    "    loss.backward()\n",
    "\n",
    "    # update\n",
    "    # lrs[i]\n",
    "    lr = 0.1 if i < 100_000 else 0.01\n",
    "    for p in parameters:\n",
    "        p.data += -lr * p.grad\n",
    "\n",
    "    # # track stats\n",
    "    # lri.append(i)\n",
    "    stepi.append(i)\n",
    "    lossi.append(loss.log10().item())\n",
    "\n",
    "print(loss.item())"
   ]
  },
  {
   "cell_type": "code",
   "execution_count": 260,
   "metadata": {},
   "outputs": [
    {
     "data": {
      "text/plain": [
       "tensor(2.1541, grad_fn=<NllLossBackward0>)"
      ]
     },
     "execution_count": 260,
     "metadata": {},
     "output_type": "execute_result"
    }
   ],
   "source": [
    "# loss on training \n",
    "emb = C[Xtr]\n",
    "h = torch.tanh(emb.view((-1, 30)) @ W1 + b1)\n",
    "logits = h @ W2 + b2\n",
    "loss = F.cross_entropy(logits, Ytr)\n",
    "loss"
   ]
  },
  {
   "cell_type": "code",
   "execution_count": 261,
   "metadata": {},
   "outputs": [
    {
     "data": {
      "text/plain": [
       "tensor(2.1851, grad_fn=<NllLossBackward0>)"
      ]
     },
     "execution_count": 261,
     "metadata": {},
     "output_type": "execute_result"
    }
   ],
   "source": [
    "# loss on dev\n",
    "emb = C[Xdev]\n",
    "h = torch.tanh(emb.view((-1, 30)) @ W1 + b1)\n",
    "logits = h @ W2 + b2\n",
    "loss = F.cross_entropy(logits, Ydev)\n",
    "loss"
   ]
  },
  {
   "cell_type": "code",
   "execution_count": 262,
   "metadata": {},
   "outputs": [
    {
     "data": {
      "text/plain": [
       "[<matplotlib.lines.Line2D at 0x148e8c1c0>]"
      ]
     },
     "execution_count": 262,
     "metadata": {},
     "output_type": "execute_result"
    },
    {
     "data": {
      "image/png": "[encoded data removed]",
      "text/plain": [
       "<Figure size 640x480 with 1 Axes>"
      ]
     },
     "metadata": {},
     "output_type": "display_data"
    }
   ],
   "source": [
    "plt.plot(stepi, lossi)"
   ]
  },
  {
   "cell_type": "code",
   "execution_count": 238,
   "metadata": {},
   "outputs": [],
   "source": [
    "# because loss on training and dev set is roughly equal we're underfitting, which might mean the network is too small"
   ]
  },
  {
   "cell_type": "code",
   "execution_count": 240,
   "metadata": {},
   "outputs": [
    {
     "data": {
      "image/png": "[encoded data removed]",
      "text/plain": [
       "<Figure size 800x800 with 1 Axes>"
      ]
     },
     "metadata": {},
     "output_type": "display_data"
    }
   ],
   "source": [
    "plt.figure(figsize=(8,8))\n",
    "plt.scatter(C[:,0].data, C[:,1].data, s=200)\n",
    "for i in range(C.shape[0]):\n",
    "    plt.text(C[i,0].item(), C[i, 1].item(), itos[i], ha=\"center\", va=\"center\", color=\"white\")\n",
    "plt.grid(\"minor\")"
   ]
  },
  {
   "cell_type": "code",
   "execution_count": 267,
   "metadata": {},
   "outputs": [
    {
     "name": "stdout",
     "output_type": "stream",
     "text": [
      "gylen.\n",
      "nycer.\n",
      "kaliiah.\n",
      "arrelynn.\n",
      "raance.\n",
      "brahziendrejinven.\n",
      "muridishel.\n",
      "aava.\n",
      "temaleigelyn.\n",
      "camdy.\n",
      "hamarik.\n",
      "tel.\n",
      "vuch.\n",
      "liviani.\n",
      "fabiianna.\n",
      "kainoranitsyn.\n",
      "tamji.\n",
      "kaerilyn.\n",
      "yum.\n",
      "hemon.\n",
      "keyla.\n",
      "kaylaier.\n",
      "kellyza.\n",
      "rone.\n",
      "javon.\n",
      "zylen.\n",
      "dan.\n",
      "andiria.\n",
      "navlee.\n",
      "kaxth.\n",
      "joldyn.\n",
      "emy.\n",
      "nyvin.\n",
      "elijaisteanodan.\n",
      "hen.\n",
      "baya.\n",
      "ana.\n",
      "khira.\n",
      "adhemsira.\n",
      "shah.\n",
      "betiriena.\n",
      "mefreletalyn.\n",
      "zeni.\n",
      "clasi.\n",
      "jozelya.\n",
      "abdutt.\n",
      "nohe.\n",
      "karion.\n",
      "raghanse.\n",
      "mena.\n",
      "ahhabebiyfe.\n",
      "jorin.\n",
      "ros.\n",
      "jebelleuga.\n",
      "kiriah.\n",
      "zer.\n",
      "zheritna.\n",
      "azlie.\n",
      "ezaniannalisen.\n",
      "mer.\n",
      "ruon.\n",
      "evestelairu.\n",
      "phri.\n",
      "lyo.\n",
      "camelocclar.\n",
      "madora.\n",
      "antor.\n",
      "tolnan.\n",
      "jaxlee.\n",
      "jaklynn.\n",
      "arian.\n",
      "keis.\n",
      "arlyn.\n",
      "aravianna.\n",
      "arargina.\n",
      "rutt.\n",
      "aebalis.\n",
      "evron.\n",
      "azi.\n",
      "sarberaa.\n",
      "alixa.\n",
      "loutalpio.\n",
      "kandry.\n",
      "jalic.\n",
      "janore.\n",
      "enalia.\n",
      "zenir.\n",
      "kianmorosa.\n",
      "lovan.\n",
      "neba.\n",
      "kha.\n",
      "jatisa.\n",
      "kemaracea.\n",
      "buxnauree.\n",
      "roele.\n",
      "kebacca.\n",
      "khan.\n",
      "kinza.\n",
      "ner.\n",
      "esha.\n",
      "lel.\n",
      "vin.\n",
      "demilia.\n",
      "der.\n",
      "danisswan.\n",
      "adrit.\n",
      "zaii.\n",
      "jen.\n",
      "melejy.\n",
      "brinna.\n",
      "esses.\n",
      "racent.\n",
      "amariah.\n",
      "aassy.\n",
      "kae.\n",
      "karlia.\n",
      "corrick.\n",
      "amara.\n",
      "anemit.\n",
      "kennes.\n",
      "mekley.\n",
      "noby.\n",
      "kaya.\n",
      "kah.\n",
      "ken.\n",
      "izarearaonna.\n",
      "kyla.\n",
      "bslem.\n",
      "veah.\n",
      "jevy.\n",
      "iurnoxmailanral.\n",
      "nashaley.\n",
      "ozilma.\n",
      "brael.\n",
      "capribello.\n",
      "lakshavyn.\n",
      "jezter.\n",
      "per.\n",
      "nelynn.\n",
      "henaia.\n",
      "jah.\n",
      "isra.\n",
      "phartoni.\n",
      "aloiastahayka.\n",
      "jurlainy.\n",
      "ralynn.\n",
      "tayah.\n",
      "rever.\n",
      "areanta.\n",
      "aria.\n",
      "ansh.\n",
      "hena.\n",
      "braser.\n",
      "inza.\n",
      "aniy.\n",
      "alit.\n",
      "gya.\n",
      "dakota.\n",
      "lene.\n",
      "lazissofent.\n",
      "aven.\n",
      "des.\n",
      "dets.\n",
      "utt.\n",
      "osen.\n",
      "ket.\n",
      "ruon.\n",
      "aalexlynn.\n",
      "seyann.\n",
      "carlee.\n",
      "gan.\n",
      "braxca.\n",
      "memkeren.\n",
      "vayriszya.\n",
      "dosem.\n",
      "ley.\n",
      "maya.\n",
      "sahhyah.\n",
      "rha.\n",
      "brensliern.\n",
      "avode.\n",
      "ashiriattya.\n",
      "brista.\n",
      "maan.\n",
      "heah.\n",
      "cor.\n",
      "merriya.\n",
      "tvaana.\n",
      "kenrey.\n",
      "contali.\n",
      "aney.\n",
      "nah.\n",
      "ier.\n",
      "rijonna.\n",
      "pwonsatymance.\n",
      "cashah.\n",
      "helynn.\n",
      "stairia.\n",
      "sur.\n",
      "naj.\n"
     ]
    }
   ],
   "source": [
    "for _ in range(200):\n",
    "    out = []\n",
    "    context = [0] * block_size\n",
    "    while True:\n",
    "        emb = C[torch.tensor([context])]\n",
    "        h = torch.tanh(emb.view(1, -1) @ W1 + b1)\n",
    "        logits = h @ W2 + b2\n",
    "        probs = F.softmax(logits, dim=1)\n",
    "        ix = torch.multinomial(probs, num_samples=1).item()\n",
    "        context = context[1:] + [ix]\n",
    "        out.append(ix)\n",
    "        if ix == 0:\n",
    "            break\n",
    "\n",
    "    print(''.join(itos[i] for i in out))"
   ]
  },
  {
   "cell_type": "code",
   "execution_count": null,
   "metadata": {},
   "outputs": [],
   "source": []
  }
 ],
 "metadata": {
  "kernelspec": {
   "display_name": "Python 3",
   "language": "python",
   "name": "python3"
  },
  "language_info": {
   "codemirror_mode": {
    "name": "ipython",
    "version": 3
   },
   "file_extension": ".py",
   "mimetype": "text/x-python",
   "name": "python",
   "nbconvert_exporter": "python",
   "pygments_lexer": "ipython3",
   "version": "3.9.13"
  }
 },
 "nbformat": 4,
 "nbformat_minor": 2
}
