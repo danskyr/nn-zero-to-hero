{
 "cells": [
  {
   "cell_type": "code",
   "execution_count": 1,
   "metadata": {},
   "outputs": [],
   "source": [
    "import torch\n",
    "import torch.nn.functional as F\n",
    "import random\n",
    "import matplotlib.pyplot as plt\n",
    "%matplotlib inline"
   ]
  },
  {
   "cell_type": "code",
   "execution_count": 2,
   "metadata": {},
   "outputs": [
    {
     "data": {
      "text/plain": [
       "['emma', 'olivia', 'ava', 'isabella', 'sophia', 'charlotte', 'mia', 'amelia']"
      ]
     },
     "execution_count": 2,
     "metadata": {},
     "output_type": "execute_result"
    }
   ],
   "source": [
    "words = open('names.txt', 'r').read().splitlines()\n",
    "words[:8]"
   ]
  },
  {
   "cell_type": "code",
   "execution_count": 4,
   "metadata": {},
   "outputs": [
    {
     "name": "stdout",
     "output_type": "stream",
     "text": [
      "{1: 'a', 2: 'b', 3: 'c', 4: 'd', 5: 'e', 6: 'f', 7: 'g', 8: 'h', 9: 'i', 10: 'j', 11: 'k', 12: 'l', 13: 'm', 14: 'n', 15: 'o', 16: 'p', 17: 'q', 18: 'r', 19: 's', 20: 't', 21: 'u', 22: 'v', 23: 'w', 24: 'x', 25: 'y', 26: 'z', 0: '.'}\n"
     ]
    }
   ],
   "source": [
    "chars = sorted(list(set(''.join(words))))\n",
    "stoi = {s:i+1 for i,s in enumerate(chars)}\n",
    "stoi['.'] = 0\n",
    "itos = {i:s for s,i in stoi.items()}\n",
    "print((itos))"
   ]
  },
  {
   "cell_type": "code",
   "execution_count": 26,
   "metadata": {},
   "outputs": [],
   "source": [
    "def train_mlp(hyperparams):\n",
    "    def build_dataset(words):\n",
    "        X, Y = [], []\n",
    "\n",
    "        for w in words:\n",
    "            context = [0] * hyperparams['block_size']\n",
    "            for ch in w + '.':\n",
    "                ix = stoi[ch]\n",
    "                \n",
    "                X.append(context)\n",
    "                Y.append(ix)\n",
    "\n",
    "                context = context[1:] + [ix] # crop and append \n",
    "        \n",
    "        X = torch.tensor(X)\n",
    "        Y = torch.tensor(Y)\n",
    "\n",
    "        return X, Y\n",
    "\n",
    "    random.seed(42)\n",
    "    random.shuffle(words)\n",
    "    n1 = int(0.8 * len(words))\n",
    "    n2 = int(0.9 * len(words))\n",
    "\n",
    "    Xtr, Ytr = build_dataset(words[:n1])\n",
    "    Xdev, Ydev = build_dataset(words[n1:n2])\n",
    "    Xte, Yte = build_dataset(words[n2:])\n",
    "\n",
    "    g = torch.Generator().manual_seed(2147483647)\n",
    "    C = torch.randn((hyperparams['characters'], hyperparams['input_dimensions']), generator=g)\n",
    "    W1 = torch.randn((hyperparams['input_dimensions'] * hyperparams['block_size'], hyperparams['neurons']), generator=g) * 0.01\n",
    "    b1 = torch.randn((hyperparams['neurons']), generator=g) * 0\n",
    "    W2 = torch.randn((hyperparams['neurons'], hyperparams['characters']), generator=g) * 0.01\n",
    "    b2 = torch.randn((hyperparams['characters']), generator=g) * 0\n",
    "    parameters = [C, W1, b1, W2, b2]\n",
    "\n",
    "    for p in parameters:\n",
    "        p.requires_grad = True\n",
    "\n",
    "    sum(p.nelement() for p in parameters) # number of total params\n",
    "\n",
    "    for i in range(200_000):\n",
    "        # minibatch construct\n",
    "        ix = torch.randint(0, Xtr.shape[0], (hyperparams['mini_batch_size'],))\n",
    "\n",
    "        # forward\n",
    "        emb = C[Xtr[ix]]\n",
    "        h = torch.tanh(emb.view((-1, hyperparams['input_dimensions'] * hyperparams['block_size'])) @ W1 + b1)\n",
    "        logits = h @ W2 + b2\n",
    "        loss = F.cross_entropy(logits, Ytr[ix])\n",
    "\n",
    "        # backward pass\n",
    "        for p in parameters:\n",
    "            p.grad = None\n",
    "        loss.backward()\n",
    "\n",
    "        # update\n",
    "        lr = 0.1 if i < 100_000 else 0.01\n",
    "        for p in parameters:\n",
    "            p.data += -lr * p.grad\n",
    "    \n",
    "    def calculate_loss(inputs, outputs):\n",
    "        emb = C[inputs]\n",
    "        h = torch.tanh(emb.view((-1, hyperparams['input_dimensions'] * hyperparams['block_size'])) @ W1 + b1)\n",
    "        logits = h @ W2 + b2\n",
    "        return F.cross_entropy(logits, outputs)\n",
    "\n",
    "    tr_loss = calculate_loss(Xtr, Ytr)\n",
    "    dev_loss = calculate_loss(Xdev, Ydev)\n",
    "\n",
    "    return tr_loss, dev_loss"
   ]
  },
  {
   "cell_type": "code",
   "execution_count": 28,
   "metadata": {},
   "outputs": [
    {
     "name": "stdout",
     "output_type": "stream",
     "text": [
      "Running experiment with params: {'block_size': 8, 'input_dimensions': 50, 'neurons': 700, 'mini_batch_size': 128, 'characters': 27}\n",
      "Achieved loss of 1.6185532808303833 and 2.1509552001953125\n",
      "----------------------------\n"
     ]
    },
    {
     "data": {
      "text/plain": [
       "tensor(2.1510, grad_fn=<NllLossBackward0>)"
      ]
     },
     "execution_count": 28,
     "metadata": {},
     "output_type": "execute_result"
    }
   ],
   "source": [
    "experiments = [\n",
    "    # {\n",
    "    #     \"block_size\": 3,\n",
    "    #     \"input_dimensions\": 10,\n",
    "    #     \"neurons\": 200,\n",
    "    #     \"mini_batch_size\": 48,\n",
    "    #     \"characters\": 27,\n",
    "    # },\n",
    "    # {\n",
    "    #     \"block_size\": 5,\n",
    "    #     \"input_dimensions\": 10,\n",
    "    #     \"neurons\": 200,\n",
    "    #     \"mini_batch_size\": 48,\n",
    "    #     \"characters\": 27,\n",
    "    # },\n",
    "    # {\n",
    "    #     \"block_size\": 3,\n",
    "    #     \"input_dimensions\": 10,\n",
    "    #     \"neurons\": 250,\n",
    "    #     \"mini_batch_size\": 48,\n",
    "    #     \"characters\": 27,\n",
    "    # },\n",
    "    {\n",
    "        \"block_size\": 8,\n",
    "        \"input_dimensions\": 50,\n",
    "        \"neurons\": 700,\n",
    "        \"mini_batch_size\": 128,\n",
    "        \"characters\": 27,\n",
    "    }\n",
    "]\n",
    "\n",
    "losses = []\n",
    "for experiment in experiments:\n",
    "    print(\"Running experiment with params:\", experiment)\n",
    "    tr_loss, dev_loss = train_mlp(experiment)\n",
    "    losses.append(dev_loss)\n",
    "    print(f\"Achieved loss of {tr_loss} and {dev_loss}\")\n",
    "    print('----------------------------')\n",
    "\n",
    "min(losses)\n",
    "\n",
    "# Running experiment with params: {'block_size': 3, 'input_dimensions': 10, 'neurons': 200, 'mini_batch_size': 48, 'characters': 27}\n",
    "# Achieved loss of 2.1132707595825195 and 2.149827241897583\n",
    "# --> base model\n",
    "# ----------------------------\n",
    "# Running experiment with params: {'block_size': 5, 'input_dimensions': 10, 'neurons': 200, 'mini_batch_size': 48, 'characters': 27}\n",
    "# Achieved loss of 2.178300142288208 and 2.205777883529663\n",
    "# --> more block_size doesn't help\n",
    "# ----------------------------\n",
    "# Running experiment with params: {'block_size': 5, 'input_dimensions': 10, 'neurons': 250, 'mini_batch_size': 48, 'characters': 27}\n",
    "# Achieved loss of 2.166443347930908 and 2.2088193893432617\n",
    "# ----------------------------\n",
    "# Running experiment with params: {'block_size': 3, 'input_dimensions': 10, 'neurons': 250, 'mini_batch_size': 48, 'characters': 27}\n",
    "# Achieved loss of 2.117893695831299 and 2.1639604568481445\n",
    "# ----------------------------\n",
    "# Running experiment with params: {'block_size': 3, 'input_dimensions': 20, 'neurons': 250, 'mini_batch_size': 48, 'characters': 27}\n",
    "# Achieved loss of 2.0417332649230957 and 2.145442008972168\n",
    "# ----------------------------\n",
    "# Running experiment with params: {'block_size': 4, 'input_dimensions': 30, 'neurons': 300, 'mini_batch_size': 64, 'characters': 27}\n",
    "# Achieved loss of 1.8625956773757935 and 2.044607162475586\n",
    "# ----------------------------\n",
    "# Running experiment with params: {'block_size': 8, 'input_dimensions': 50, 'neurons': 700, 'mini_batch_size': 128, 'characters': 27}\n",
    "# Achieved loss of 1.6185532808303833 and 2.1509552001953125\n",
    "# ----------------------------"
   ]
  },
  {
   "cell_type": "code",
   "execution_count": null,
   "metadata": {},
   "outputs": [],
   "source": [
    "for _ in range(20):\n",
    "    out = []\n",
    "    context = [0] * block_size\n",
    "    while True:\n",
    "        emb = C[torch.tensor([context])]\n",
    "        h = torch.tanh(emb.view(1, -1) @ W1 + b1)\n",
    "        logits = h @ W2 + b2\n",
    "        probs = F.softmax(logits, dim=1)\n",
    "        ix = torch.multinomial(probs, num_samples=1).item()\n",
    "        context = context[1:] + [ix]\n",
    "        out.append(ix)\n",
    "        if ix == 0:\n",
    "            break\n",
    "\n",
    "    print(''.join(itos[i] for i in out))"
   ]
  }
 ],
 "metadata": {
  "kernelspec": {
   "display_name": "Python 3",
   "language": "python",
   "name": "python3"
  },
  "language_info": {
   "codemirror_mode": {
    "name": "ipython",
    "version": 3
   },
   "file_extension": ".py",
   "mimetype": "text/x-python",
   "name": "python",
   "nbconvert_exporter": "python",
   "pygments_lexer": "ipython3",
   "version": "3.9.13"
  }
 },
 "nbformat": 4,
 "nbformat_minor": 2
}
